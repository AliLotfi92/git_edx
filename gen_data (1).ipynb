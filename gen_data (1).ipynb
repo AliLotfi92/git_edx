{
 "cells": [
  {
   "cell_type": "markdown",
   "id": "768f25ff-a0d3-4654-8c27-9dd7d3e1e370",
   "metadata": {},
   "source": [
    "# Data Generating for different purpose using gpt 3.5"
   ]
  },
  {
   "cell_type": "code",
   "execution_count": 1,
   "id": "e4addb20-c5d9-4a3b-afb1-7968650a458c",
   "metadata": {},
   "outputs": [
    {
     "data": {
      "application/vnd.jupyter.widget-view+json": {
       "model_id": "f8cd03ab055c4c65bf28cb4a67709176",
       "version_major": 2,
       "version_minor": 0
      },
      "text/plain": [
       "VBox(children=(HTML(value='<center> <img\\nsrc=https://huggingface.co/front/assets/huggingface_logo-noborder.sv…"
      ]
     },
     "metadata": {},
     "output_type": "display_data"
    }
   ],
   "source": [
    "import openai\n",
    "import csv\n",
    "import os\n",
    "from tqdm import tqdm\n",
    "\n",
    "openai.api_key = 'mykey'\n",
    "\n",
    "def generate_questions(text):\n",
    "    messages = [\n",
    "        {\"role\": \"system\", \"content\": \"You are a helpful assistant.\"},\n",
    "        {\"role\": \"user\", \"content\": f\"Generate one question based on the following text:\\n\\n{text}\"}\n",
    "    ]\n",
    "\n",
    "    response = openai.ChatCompletion.create(\n",
    "        model=\"gpt-3.5-turbo\",\n",
    "        messages=messages,\n",
    "        max_tokens=50\n",
    "    )\n",
    "\n",
    "    questions = response.choices[0].message['content'].strip().split('\\n')\n",
    "    questions = [question.lstrip('0123456789. ').strip() for question in questions]\n",
    "    \n",
    "    return questions\n",
    "\n",
    "def extract_context(text, question):\n",
    "    messages = [\n",
    "        {\"role\": \"system\", \"content\": \"You are a helpful assistant.\"},\n",
    "        {\"role\": \"user\", \"content\": f\"Extract sentences from the text that answer the following question:\\n\\nQuestion: {question}\\n\\nText:\\n{text}\"}\n",
    "    ]\n",
    "\n",
    "    response = openai.ChatCompletion.create(\n",
    "        model=\"gpt-3.5-turbo\",\n",
    "        messages=messages,\n",
    "        max_tokens=150\n",
    "    )\n",
    "\n",
    "    context = response.choices[0].message['content'].strip()\n",
    "    return context\n",
    "\n",
    "import time            \n",
    "def main():\n",
    "    dataset = []\n",
    "    directory_path = 'processed/'\n",
    "\n",
    "    files = os.listdir(directory_path)\n",
    "    txt_files = [file for file in files if file.endswith('.txt')]\n",
    "    i = 2\n",
    "    for file in tqdm(range(i, 347)):\n",
    "        time.sleep(3)\n",
    "        file = txt_files[i]\n",
    "        with open(f'processed/{file}', 'r', encoding='utf-8') as infile:\n",
    "            text = infile.read()\n",
    "\n",
    "            questions = generate_questions(text)\n",
    "            question = questions[0]\n",
    "            context = extract_context(text, question)\n",
    "            \n",
    "            dataset.append({\"Question\": question, \"Context\": context})\n",
    "            \n",
    "            output_file = f'finetune_dataset/dataset_{i}.csv'\n",
    "            with open(output_file, mode='w', newline='') as file:\n",
    "                writer = csv.DictWriter(file, fieldnames=[\"Question\", \"Context\"])\n",
    "                writer.writeheader()\n",
    "                writer.writerows(dataset)\n",
    "\n",
    "    print(f\"Dataset saved to {output_file}\")\n",
    "\n",
    "if __name__ == \"__main__\":\n",
    "    main()\n"
   ]
  }
 ],
 "metadata": {
  "kernelspec": {
   "display_name": "Python 3 (ipykernel)",
   "language": "python",
   "name": "python3"
  },
  "language_info": {
   "codemirror_mode": {
    "name": "ipython",
    "version": 3
   },
   "file_extension": ".py",
   "mimetype": "text/x-python",
   "name": "python",
   "nbconvert_exporter": "python",
   "pygments_lexer": "ipython3",
   "version": "3.11.9"
  }
 },
 "nbformat": 4,
 "nbformat_minor": 5
}
