{
 "cells": [
  {
   "cell_type": "markdown",
   "id": "6339ef80-08a7-4912-9974-b328436dd9e6",
   "metadata": {},
   "source": [
    "# Main Notebook\n",
    "\n",
    "**This notebook has all the components of developed RAG model, it also addresses all the requirements, including responses to the final question**"
   ]
  },
  {
   "cell_type": "code",
   "execution_count": 61,
   "id": "e85edd59-c79a-44e2-add8-7cccbf2e13b7",
   "metadata": {},
   "outputs": [
    {
     "data": {
      "text/plain": [
       "True"
      ]
     },
     "execution_count": 61,
     "metadata": {},
     "output_type": "execute_result"
    }
   ],
   "source": [
    "import re\n",
    "from nltk.tokenize import sent_tokenize, word_tokenize\n",
    "import os\n",
    "import nltk\n",
    "from typing import List, Tuple\n",
    "from tqdm import tqdm\n",
    "import hashlib\n",
    "import pandas as pd\n",
    "\n",
    "\n",
    "nltk.download('punkt', quiet=True)"
   ]
  },
  {
   "cell_type": "markdown",
   "id": "0d070372-0eb8-44ca-a52a-02fb2b8ca3c7",
   "metadata": {},
   "source": [
    "# Data Preprocessing\n",
    "\n",
    "Inputting the text file and setting the max_length ensures that we do not have super long sentences. That often result from converting HTML to text. This is also mentioned on the Kaggle page for this dataset.\n",
    "    "
   ]
  },
  {
   "cell_type": "code",
   "execution_count": 62,
   "id": "36ad0402-06a7-4e13-814c-492e7ec54e14",
   "metadata": {},
   "outputs": [],
   "source": [
    "\n",
    "def clean_text(text, max_length=40):\n",
    "    #input the text file and max_length is making sure we do not have super long sentences which are mostly because of conver\n",
    "    # converting from html to text AS IT is mentioned in kaggle page for this dataset too\n",
    "    try:\n",
    "        # extracting sentences using nltk library\n",
    "        sentences = sent_tokenize(text)\n",
    "        cleaned_sentences = []\n",
    "        \n",
    "        for sentence in sentences:\n",
    "            # some customized cleaning process after looking at dozons of text file in the dataset\n",
    "            cleaned_sentence = re.sub(r'\\{.*?\\}|\\[.*?\\]|\\(.*?\\)|\\\\n|•|<.*?>|http\\S+|-{2,}', '', sentence)\n",
    "            cleaned_sentence = re.sub(r'by [\\w\\s|]+ on \\d+ [A-Z]+ \\d+ \\|.*? Comments \\|', '', cleaned_sentence)  \n",
    "            # some phareses that seem to be noise from html to text, so i further clean them to make sure that data has a good quality\n",
    "            patterns = [\n",
    "                r'\\b(?:Español|日本語|한국어|Amazon MAP|AWS Services Used|Sr\\. Program Manager|mso-pagination|ol|mso-bidi-font-family|Cambria|Thai|Portuguese|French|Deutsch|Italian|Chinese|Russian|Roman|mso-style-parent|Get Started|Contact Sales|font-size|Wingdings)\\b',\n",
    "                r'mso-[\\w\\-]+:[\\w\\-]+;?',\n",
    "                r'@\\w+-face',\n",
    "                r'\\bmso-\\w+-props\\b',\n",
    "                r'margin:[\\d\\w]+;',\n",
    "                r'panose-[\\d ]+;',\n",
    "                r'mso-\\w+-font-family',\n",
    "                r'mso-font-charset:[\\d]+;',\n",
    "                r'mso-default-props:[\\w]+;',\n",
    "                r'font-family:Cambria;',\n",
    "                r'\\b\\d{4}\\b',\n",
    "                r'\\bmso-\\w+-qformat\\b',\n",
    "                r'mso-\\w+-size:[\\d\\w]+;',\n",
    "                r'mso-[\\w-]+:yes;',\n",
    "                r'[\\[\\]]'\n",
    "            ]\n",
    "            \n",
    "            for pattern in patterns:\n",
    "                cleaned_sentence = re.sub(pattern, '', cleaned_sentence)\n",
    "            \n",
    "            # remove extra spaces + lowering characters\n",
    "            cleaned_sentence = re.sub(r'\\s+', ' ', cleaned_sentence).strip().lower()\n",
    "            \n",
    "            # word tokenize the sentence to make sure the chunking is consistent\n",
    "            tokens = word_tokenize(cleaned_sentence)\n",
    "            \n",
    "            # making sure that the length of any setences is not more a certain length\n",
    "            for i in range(0, len(tokens), max_length):\n",
    "                chunk = tokens[i:i+max_length]\n",
    "                chunk_sentence = ' '.join(chunk)\n",
    "                # add a period if the sentence does not have\n",
    "                if not chunk_sentence[-1] in '.!?':\n",
    "                    chunk_sentence += '.'\n",
    "                cleaned_sentences.append(chunk_sentence)\n",
    "                \n",
    "        cleaned_text = ' '.join(cleaned_sentences)\n",
    "        \n",
    "        return cleaned_text\n",
    "    except Exception as e:\n",
    "        print(f\"An error occurred: {e}\")\n",
    "        return text  # Return original text if an error occurs"
   ]
  },
  {
   "cell_type": "code",
   "execution_count": 63,
   "id": "ecea1447-aa11-42e7-b1de-4267f6dae649",
   "metadata": {},
   "outputs": [],
   "source": [
    "\n",
    "directory_path = 'data/'\n",
    "\n",
    "files = os.listdir(directory_path)\n",
    "txt_files = [file for file in files if file.endswith('.txt')]\n",
    "# reading the all files and preprocess them and then save them\n",
    "for file in txt_files:\n",
    "    with open(f'data/{file}', 'r', encoding='utf-8') as infile, open(f'processed/{file}', 'w', encoding='utf-8') as outfile:\n",
    "        text = infile.read()\n",
    "        cleaned_text = clean_text(text, max_length=64)\n",
    "        outfile.write(cleaned_text)"
   ]
  },
  {
   "cell_type": "markdown",
   "id": "73cdc667-f022-4e43-9279-a3a36d696727",
   "metadata": {},
   "source": [
    "# Chunking text files\n",
    "\n",
    "- Creating a chunking function making sure there is an overlap between them, \n",
    "- Chunking is sentence friendly, does not chunk in the middle of sentenc\n",
    "    "
   ]
  },
  {
   "cell_type": "code",
   "execution_count": 64,
   "id": "2cd2b0f3-4a16-474d-b868-e1fa7850afb8",
   "metadata": {},
   "outputs": [
    {
     "name": "stderr",
     "output_type": "stream",
     "text": [
      "Processing files: 100%|███████████████████████| 347/347 [07:12<00:00,  1.25s/it]\n"
     ]
    },
    {
     "name": "stdout",
     "output_type": "stream",
     "text": [
      "Total chunks: 5118\n",
      "Average chunk size: 125.78 tokens\n",
      "Maximum chunk size: 166 tokens\n"
     ]
    }
   ],
   "source": [
    "# creating a chunking function making sure there is an overlap between them, \n",
    "# chunking is sentence friendly, does not chunk in the middle of sentence\n",
    "\n",
    "def generate_hash_id(content):\n",
    "    return hashlib.md5(content.encode()).hexdigest()\n",
    "\n",
    "def count_tokens_in_file(text):\n",
    "    return len(nltk.word_tokenize(text))\n",
    "\n",
    "def chunk_text(text, max_tokens=128, overlap=20, min_tokens=40):\n",
    "    words = text.split()\n",
    "    chunks = []\n",
    "    current_chunk = []\n",
    "    current_chunk_tokens = 0\n",
    "\n",
    "    for i, word in enumerate(words):\n",
    "        current_chunk.append(word)\n",
    "        current_chunk_tokens = count_tokens_in_file(' '.join(current_chunk))\n",
    "\n",
    "        if current_chunk_tokens >= max_tokens:\n",
    "            chunks.append(' '.join(current_chunk))\n",
    "            overlap_start = max(0, len(current_chunk) - overlap)\n",
    "            current_chunk = current_chunk[overlap_start:]\n",
    "            current_chunk_tokens = count_tokens_in_file(' '.join(current_chunk))\n",
    "\n",
    "    #  the last chunk\n",
    "    if current_chunk:\n",
    "        if current_chunk_tokens < min_tokens and chunks:\n",
    "            # we should merge with previous chunk if it's too small\n",
    "            chunks[-1] += ' ' + ' '.join(current_chunk)\n",
    "        else:\n",
    "            chunks.append(' '.join(current_chunk))\n",
    "\n",
    "    return chunks\n",
    "\n",
    "directory_path = 'processed/'\n",
    "files = os.listdir(directory_path)\n",
    "txt_files = [file for file in files if file.endswith('.txt')]\n",
    "chunks = []\n",
    "\n",
    "for file in tqdm(txt_files, desc=\"Processing files\"):\n",
    "    with open(f'{directory_path}/{file}', 'r', encoding='utf-8') as infile:\n",
    "        text = infile.read()\n",
    "        chunk_per_file = chunk_text(text, max_tokens=128, overlap=20, min_tokens=40)\n",
    "        chunks.extend(chunk_per_file)\n",
    "\n",
    "# Print statistics about chunk sizes\n",
    "chunk_sizes = [count_tokens_in_file(chunk) for chunk in chunks]\n",
    "print(f\"Total chunks: {len(chunks)}\")\n",
    "print(f\"Average chunk size: {sum(chunk_sizes) / len(chunks):.2f} tokens\")\n",
    "print(f\"Maximum chunk size: {max(chunk_sizes)} tokens\")\n",
    "\n",
    "data = [{\"chunk\": chunk, \"chunk_id\": f\"cid_{generate_hash_id(chunk)}\"} for chunk in chunks]\n",
    "df = pd.DataFrame(data)"
   ]
  },
  {
   "cell_type": "code",
   "execution_count": 9,
   "id": "5a2c016e-8eb2-44e8-861c-2f2c07fee93f",
   "metadata": {},
   "outputs": [
    {
     "data": {
      "text/html": [
       "<div>\n",
       "<style scoped>\n",
       "    .dataframe tbody tr th:only-of-type {\n",
       "        vertical-align: middle;\n",
       "    }\n",
       "\n",
       "    .dataframe tbody tr th {\n",
       "        vertical-align: top;\n",
       "    }\n",
       "\n",
       "    .dataframe thead th {\n",
       "        text-align: right;\n",
       "    }\n",
       "</style>\n",
       "<table border=\"1\" class=\"dataframe\">\n",
       "  <thead>\n",
       "    <tr style=\"text-align: right;\">\n",
       "      <th></th>\n",
       "      <th>chunk</th>\n",
       "      <th>chunk_id</th>\n",
       "    </tr>\n",
       "  </thead>\n",
       "  <tbody>\n",
       "    <tr>\n",
       "      <th>0</th>\n",
       "      <td>aws for industries the next frontier : generat...</td>\n",
       "      <td>cid_99585cb394bc4cfa3ae549a000df11df</td>\n",
       "    </tr>\n",
       "    <tr>\n",
       "      <th>1</th>\n",
       "      <td>commonly referred to as foundation models . in...</td>\n",
       "      <td>cid_b7252a696b2e4eebef7b6e014d729846</td>\n",
       "    </tr>\n",
       "    <tr>\n",
       "      <th>2</th>\n",
       "      <td>contracts . while traditional ai tools can hel...</td>\n",
       "      <td>cid_4d9982f7932727dcbb406eb5b8d1b19c</td>\n",
       "    </tr>\n",
       "    <tr>\n",
       "      <th>3</th>\n",
       "      <td>analysis , and extend the power of ai in finan...</td>\n",
       "      <td>cid_99f83f5cef45eef73b87f578f4e7146b</td>\n",
       "    </tr>\n",
       "    <tr>\n",
       "      <th>4</th>\n",
       "      <td>at scale , and how to get started with generat...</td>\n",
       "      <td>cid_b76eb8c7de1aeb099c467fd523f5911c</td>\n",
       "    </tr>\n",
       "    <tr>\n",
       "      <th>...</th>\n",
       "      <td>...</td>\n",
       "      <td>...</td>\n",
       "    </tr>\n",
       "    <tr>\n",
       "      <th>5113</th>\n",
       "      <td>aws , ” manoharan says , “ we can strike the r...</td>\n",
       "      <td>cid_480d67c1f6e3625c36660dcdde8f5c3e</td>\n",
       "    </tr>\n",
       "    <tr>\n",
       "      <th>5114</th>\n",
       "      <td>easier . snap optimizes cost savings while sto...</td>\n",
       "      <td>cid_65aafbb0ec2a6490ba0f150f1671431b</td>\n",
       "    </tr>\n",
       "    <tr>\n",
       "      <th>5115</th>\n",
       "      <td>opportunity | optimizing storage by migrating ...</td>\n",
       "      <td>cid_6d4f252ac92be3f623a5848673239315</td>\n",
       "    </tr>\n",
       "    <tr>\n",
       "      <th>5116</th>\n",
       "      <td>determine if amazon s3 glacier instant retriev...</td>\n",
       "      <td>cid_31d6370a4eede0d1c4b2984f54a65e0c</td>\n",
       "    </tr>\n",
       "    <tr>\n",
       "      <th>5117</th>\n",
       "      <td>eks amazon cloudfront on storage snap plans to...</td>\n",
       "      <td>cid_c00e8d1401cdc20463da1f3f73de2a83</td>\n",
       "    </tr>\n",
       "  </tbody>\n",
       "</table>\n",
       "<p>5118 rows × 2 columns</p>\n",
       "</div>"
      ],
      "text/plain": [
       "                                                  chunk  \\\n",
       "0     aws for industries the next frontier : generat...   \n",
       "1     commonly referred to as foundation models . in...   \n",
       "2     contracts . while traditional ai tools can hel...   \n",
       "3     analysis , and extend the power of ai in finan...   \n",
       "4     at scale , and how to get started with generat...   \n",
       "...                                                 ...   \n",
       "5113  aws , ” manoharan says , “ we can strike the r...   \n",
       "5114  easier . snap optimizes cost savings while sto...   \n",
       "5115  opportunity | optimizing storage by migrating ...   \n",
       "5116  determine if amazon s3 glacier instant retriev...   \n",
       "5117  eks amazon cloudfront on storage snap plans to...   \n",
       "\n",
       "                                  chunk_id  \n",
       "0     cid_99585cb394bc4cfa3ae549a000df11df  \n",
       "1     cid_b7252a696b2e4eebef7b6e014d729846  \n",
       "2     cid_4d9982f7932727dcbb406eb5b8d1b19c  \n",
       "3     cid_99f83f5cef45eef73b87f578f4e7146b  \n",
       "4     cid_b76eb8c7de1aeb099c467fd523f5911c  \n",
       "...                                    ...  \n",
       "5113  cid_480d67c1f6e3625c36660dcdde8f5c3e  \n",
       "5114  cid_65aafbb0ec2a6490ba0f150f1671431b  \n",
       "5115  cid_6d4f252ac92be3f623a5848673239315  \n",
       "5116  cid_31d6370a4eede0d1c4b2984f54a65e0c  \n",
       "5117  cid_c00e8d1401cdc20463da1f3f73de2a83  \n",
       "\n",
       "[5118 rows x 2 columns]"
      ]
     },
     "execution_count": 9,
     "metadata": {},
     "output_type": "execute_result"
    }
   ],
   "source": [
    "df.to(\"chunked_data.csv\", index=False)\n",
    "df"
   ]
  },
  {
   "cell_type": "code",
   "execution_count": 1,
   "id": "a543822b-7df7-4102-8d88-17df8b2688dd",
   "metadata": {},
   "outputs": [],
   "source": [
    "import pandas as pd\n",
    "df = pd.read_csv(\"chunked_data.csv\")"
   ]
  },
  {
   "cell_type": "markdown",
   "id": "a8a2af67-ddd3-40c7-80da-5a0b42355778",
   "metadata": {},
   "source": [
    "# Loading the finetuned embedding model\n",
    "First, I made a dataset to fine-tune the embedding models and then picked the best one. Here’s how I made the data:\n",
    "1. I combined two datasets. For the first part, I asked the model to create a question from a chunk of text. Then, I made positive pairs using the question and the chunk itself.\n",
    "2. For the second part, I used GPT-3.5 Turbo to create a question for each chunk of text. Then, I asked GPT-3.5 again to find sentences that answer the question, creating a question and anchor pair.\n",
    "\n",
    "Finally, I concatenated these two datasets. I did this make sure the embedding models learn to associate questions with relevant answers, enhancing their performance in understanding and retrieving information based on the given dataset.\n",
    "\n",
    "Then I finetuned the model based on contrastive loss as I have both postive pairs and negative example. More importantly, I added a dense layer (keep dim to be the same original one) + L2 projection layer as the final layer for the embedding model, and start training model for 5 epochs. For more insight on the results please see this file: embedding_models.ipynb\n",
    "\n",
    "\n",
    "\n"
   ]
  },
  {
   "cell_type": "markdown",
   "id": "ab3e7628-1131-4277-bdf9-6a414d539cfe",
   "metadata": {},
   "source": [
    "The SimCLR loss for contrastive learning for sentence embeddings is defined as follows:\n",
    "\n",
    "L_SimCLR = -log[ exp(sim(h_i, h_j) / τ) / Σ(k=1 to 2N) 1[k ≠ i] * exp(sim(h_i, h_k) / τ) ]\n",
    "\n",
    "Where:\n",
    "- h_i and h_j are the embeddings of the positive pair.\n",
    "- sim(h_i, h_j) is the cosine similarity between h_i and h_j.\n",
    "- τ (tau) is a temperature parameter.\n",
    "- 2N is the total number of samples in the batch.\n",
    "- 1[k ≠ i] is an indicator function equal to 1 if k ≠ i, otherwise 0."
   ]
  },
  {
   "cell_type": "code",
   "execution_count": 2,
   "id": "f137776b-cc61-445c-9b85-3ce7fba46a8c",
   "metadata": {},
   "outputs": [
    {
     "name": "stderr",
     "output_type": "stream",
     "text": [
      "/home/alilotfi/anaconda3/envs/myenv/lib/python3.11/site-packages/sentence_transformers/cross_encoder/CrossEncoder.py:11: TqdmExperimentalWarning: Using `tqdm.autonotebook.tqdm` in notebook mode. Use `tqdm.tqdm` instead to force console mode (e.g. in jupyter console)\n",
      "  from tqdm.autonotebook import tqdm, trange\n",
      "2024-07-08 07:12:19.283077: I tensorflow/core/platform/cpu_feature_guard.cc:210] This TensorFlow binary is optimized to use available CPU instructions in performance-critical operations.\n",
      "To enable the following instructions: AVX2 AVX512F FMA, in other operations, rebuild TensorFlow with the appropriate compiler flags.\n",
      "2024-07-08 07:12:20.355814: W tensorflow/compiler/tf2tensorrt/utils/py_utils.cc:38] TF-TRT Warning: Could not find TensorRT\n",
      "/home/alilotfi/anaconda3/envs/myenv/lib/python3.11/site-packages/huggingface_hub/file_download.py:1132: FutureWarning: `resume_download` is deprecated and will be removed in version 1.0.0. Downloads always resume when possible. If you want to force a new download, use `force_download=True`.\n",
      "  warnings.warn(\n"
     ]
    },
    {
     "data": {
      "application/vnd.jupyter.widget-view+json": {
       "model_id": "30b331c130a24e27abd24b2d053cc335",
       "version_major": 2,
       "version_minor": 0
      },
      "text/plain": [
       "Batches:   0%|          | 0/160 [00:00<?, ?it/s]"
      ]
     },
     "metadata": {},
     "output_type": "display_data"
    }
   ],
   "source": [
    "# loading the contrastived-based trained model and get the vectors\n",
    "\n",
    "import torch\n",
    "from sentence_transformers import SentenceTransformer\n",
    "import torch.nn as nn\n",
    "device=\"cuda\" if torch.cuda.is_available() else \"cpu\" \n",
    "\n",
    "class ProjectionLayer(nn.Module):\n",
    "    def __init__(self, in_dim, out_dim):\n",
    "        super(ProjectionLayer, self).__init__()\n",
    "        self.dense = nn.Linear(in_dim, out_dim)\n",
    "    \n",
    "    def forward(self, x):\n",
    "        x = self.dense(x)\n",
    "        x = nn.functional.normalize(x, p=2, dim=1)  # L2 normalization\n",
    "        return x\n",
    "\n",
    "sentence_model = SentenceTransformer(\"all-MiniLM-L6-v2\", device=device)\n",
    "projection_layer = ProjectionLayer(\n",
    "    in_dim=sentence_model.get_sentence_embedding_dimension(),\n",
    "    out_dim=sentence_model.get_sentence_embedding_dimension()\n",
    ")\n",
    "#final model that has been used for vectorizing the chunks\n",
    "sentence_model._first_module().auto_model.add_module(\"projection_layer\", projection_layer)\n",
    "sentence_model.load_state_dict(torch.load(\"mini_model_finetuned_projected/model_state_dict.pt\"))\n",
    "\n",
    "\n",
    "chunks = df['chunk'].tolist()\n",
    "vectors = sentence_model.encode(chunks, show_progress_bar=True)\n",
    "df['vector'] = vectors.tolist()"
   ]
  },
  {
   "cell_type": "code",
   "execution_count": 3,
   "id": "fcb1a7dc-8c17-4d2c-88d0-29967cc3de6b",
   "metadata": {},
   "outputs": [],
   "source": [
    "df.to_csv(\"embedding.csv\", index=False)"
   ]
  },
  {
   "cell_type": "code",
   "execution_count": 4,
   "id": "7c1496cb-60ce-4233-b156-265b584f5d7d",
   "metadata": {},
   "outputs": [
    {
     "name": "stdout",
     "output_type": "stream",
     "text": [
      "L2 norm: 0.9999999977780809\n"
     ]
    }
   ],
   "source": [
    "# checking if the magnitude of each vector is 1\n",
    "import numpy as np\n",
    "vec = df.at[1, 'vector']\n",
    "l2_norm = np.linalg.norm(vec)\n",
    "print(\"L2 norm:\", l2_norm)\n"
   ]
  },
  {
   "cell_type": "code",
   "execution_count": 5,
   "id": "e3c0ed18-c979-4700-8bf8-8f92d07e6943",
   "metadata": {},
   "outputs": [],
   "source": [
    "# for any vector in the df, the vectors have norm 1, as expected, since I further finetuned the model with a dense layer added and also a projection head that normalize the vector"
   ]
  },
  {
   "cell_type": "markdown",
   "id": "ff37365f-929c-4fbc-ba95-da2c7cdce24f",
   "metadata": {},
   "source": [
    "## Vector Database\n",
    "Finally, to help my RAG model find information quickly, I made a special type of database called a vector database using a library named Faiss. This library helps the model retrieve relevant information efficiently.\n",
    "\n",
    "# Details: \n",
    "I used a fine-tuned MiniLM model (which I chose after comparing with another model based on cost and performance) for converting documents into vectors. I enhanced this model with a dense layer + projection layer and finetuned it. I create a dataset for finetuning using the text provied by kaggle the given dataset. The created dataset includes positive and negative pairs for each anchor (or query)\n",
    "\n",
    "After creating these vectors, I used Faiss to build a vector database. This database helps me quickly find the most relevant documents when a customer query comes in.\n",
    "\n",
    "\n",
    "**Vector Store Used**: **Faiss**\n",
    "\n",
    "### Steps:\n",
    "\n",
    "\n",
    "- I used the finetuned MiniLM model to transform documents into vector representations.\n",
    "- I used Faiss to store and manage these vectors efficiently.\n",
    "- When a query comes in, I convert it to a vector using the same MiniLM model.\n",
    "- I use Faiss to find the most similar documents to the query.\n",
    "\n"
   ]
  },
  {
   "cell_type": "code",
   "execution_count": 7,
   "id": "880068c3-6301-4d21-8f01-5b5ebcc0356b",
   "metadata": {},
   "outputs": [],
   "source": [
    "import faiss\n",
    "from sentence_transformers import SentenceTransformer\n",
    "import pandas as pd\n",
    "import numpy as np\n",
    "\n",
    "vectors = np.array(df['vector'].tolist()).astype('float32')\n",
    "\n",
    "# no need to normalize as vectors already have norm one\n",
    "# faiss.normalize_L2(vectors)\n",
    "vector_dim = vectors.shape[1]\n",
    "index = faiss.IndexFlatIP(vector_dim) \n",
    "\n",
    "index.add(vectors)\n",
    "\n",
    "faiss.write_index(index, 'vector_index.faiss')\n",
    "\n",
    "metadata = df[['chunk', 'chunk_id']]\n",
    "metadata.to_csv('metadata_for_vdb.csv', index=False)\n",
    "\n",
    "metadata_dict = {\n",
    "    'chunk': df['chunk'].tolist(),\n",
    "    'chunk_id': df['chunk_id'].tolist(),\n",
    "    'vector': vectors.tolist()\n",
    "}\n",
    "np.save('metadata_for_vdb.npy', metadata_dict)\n"
   ]
  },
  {
   "cell_type": "markdown",
   "id": "d8c1ddeb-9382-4fef-8b6e-f74a19feab82",
   "metadata": {},
   "source": [
    "## Explanation of the Prompt and Model\n",
    "\n",
    "I selected Flan-T5 (due to gpu restrictions) to generate detailed responses using only the provided context. After several attempts and online searches, i've found this prompt ensures the model answers queries accurately based on the retrieved information for this model.\n",
    "\n",
    "# Improving Retrieval and Generation \n",
    "\n",
    "these approaches can be investigated to get a potential improvement on the performance \n",
    "\n",
    "Improving Retrieval (Context Relevancy & Groundness)\n",
    "   - Use hybrid search : Using BM25 (Lexical Keyword search + sematice search)\n",
    "   - Use a cross-encoder to rerank retrieved documents for better contextual relevancy to the query \n",
    "\n",
    "\n",
    "Improving Generation (Answer Relevancy)\n",
    "   - Utilize larger models like LLaMA 7B to enhance response quality and coherence.\n"
   ]
  },
  {
   "cell_type": "code",
   "execution_count": 23,
   "id": "6ae386c7-d1fe-4de3-b9c8-c58dc6373a34",
   "metadata": {},
   "outputs": [
    {
     "name": "stdout",
     "output_type": "stream",
     "text": [
      "Query: What collaboration efforts were implemented by AWS and Idemia to market and launch the Storm ABIS product targeting mid-market law enforcement agencies in the United States?\n",
      "---------- Answer ----------\n",
      "Response: AWS and Idemia built a marketing and sales strategy targeting mid-market law enforcement agencies across the united states. They also helped support the product launch at idemia's annual user conference. i.e., the build-market-sell approach was a huge success.\n",
      "\n",
      " ---------- Top Retrieved Chunks: ----------\n",
      "1: an agency already had a mature cloud environment . to make the solution customizable , the idemia te...\n",
      "2: sales strategy targeting mid-market law enforcement agencies across the united states . beyond provi...\n",
      "3: faster , you can be proactive , you can catch repeat offenders—and your community will be safer , as...\n"
     ]
    }
   ],
   "source": [
    "from transformers import AutoTokenizer, AutoModelForSeq2SeqLM\n",
    "import torch\n",
    "\n",
    "# I used flan t5 since it was a good model wrt its size\n",
    "tokenizer = AutoTokenizer.from_pretrained(\"google/flan-t5-base\")\n",
    "model = AutoModelForSeq2SeqLM.from_pretrained(\"google/flan-t5-base\")\n",
    "model.to(device)\n",
    "model.eval()\n",
    "sentence_model.eval()\n",
    "\n",
    "\n",
    "# retrive fucntion,\n",
    "def get_top_chunks(query, index, metadata, n=10):\n",
    "    query_vector = sentence_model.encode([query]).astype('float32')\n",
    "    _, I = index.search(query_vector, n) \n",
    "    top_chunks = metadata.iloc[I[0]]['chunk'].tolist()\n",
    "    return top_chunks\n",
    "\n",
    "def generate_response(query, chunks):\n",
    "    context = \"\\n\\n\".join(chunks)\n",
    "\n",
    "    # the prompt that I eneded up using after attempting several propms\n",
    "    prompt = f\"\"\"You are a helpful AI assistant. Provide a detailed and comprehensive answer to the following question based on the given context. \n",
    "    Just use information from the context to support your answer. \n",
    "    Do not use your prior knowledge.\n",
    "    If the information is not available in the context, clearly state that.\n",
    "    Aim to give a thorough explanation, using multiple sentences or paragraphs if necessary.\n",
    "\n",
    "    Question: {query}\n",
    "    \n",
    "    Context: {context}\n",
    "\n",
    "    Detailed Answer:\"\"\"\n",
    "\n",
    "    inputs = tokenizer(prompt, return_tensors=\"pt\", max_length=1024, truncation=True)\n",
    "    \n",
    "    inputs = {key: value.to(\"cuda\") for key, value in inputs.items()}\n",
    "    \n",
    "    with torch.no_grad():\n",
    "        outputs = model.generate(\n",
    "            **inputs,\n",
    "            max_length=100,\n",
    "            min_length=60,\n",
    "            num_return_sequences=1,\n",
    "            do_sample=True,\n",
    "            temperature=0.7,\n",
    "            top_k=50,\n",
    "            top_p=0.95,\n",
    "            no_repeat_ngram_size=3,\n",
    "            length_penalty=1.0\n",
    "        )\n",
    "    \n",
    "    response = tokenizer.decode(outputs[0], skip_special_tokens=True)\n",
    "    return response.strip()\n",
    "\n",
    "def retrieve_and_generate(query, index, metadata, n=3):\n",
    "    top_chunks = get_top_chunks(query, index, metadata, n=n)\n",
    "    generated_response = generate_response(query, top_chunks)\n",
    "    return generated_response, top_chunks\n",
    "\n",
    "# TEST, the query is made by gpt 3.5\n",
    "query = \"What collaboration efforts were implemented by AWS and Idemia to market and launch the Storm ABIS product targeting mid-market law enforcement agencies in the United States?\"\n",
    "response, top_chunks = retrieve_and_generate(query, index, metadata)\n",
    "print(\"Query:\", query)\n",
    "print(\"-\"*10,\"Answer\", \"-\"*10)\n",
    "print(\"Response:\", response)\n",
    "\n",
    "print(\"\\n\",\"-\"*10,\"Top Retrieved Chunks:\", \"-\"*10)\n",
    "for i, chunk in enumerate(top_chunks, 1):\n",
    "    print(f\"{i}: {chunk[:100]}...\") \n",
    "\n"
   ]
  },
  {
   "cell_type": "markdown",
   "id": "05032272-beee-47c6-989c-c5425909c39b",
   "metadata": {},
   "source": [
    "# Supervised Finetuning\n",
    "To further finetune the generative part, Flan-T5, I used similar queries generated in the previous step. I then employed the developed RAG model to produce the corresponding responses and retrieve relevant documents. These documents were used to create a dataset for instruction SFT of the LLM, FlanT5.\n",
    "\n",
    "The dataset for this part was structured as follows:\n",
    "- **Instruction**: \"Answer the query using the provided chunks.\"\n",
    "- **Query**: This field contained the initial query generated in the previous step.\n",
    "- **Retrieved docuemts** : These were the top relevant document chunks retrieved by the RAG model.\n",
    "- **Expected Response**: This field contained the response generated by the RAG model.\n",
    "\n",
    "An example entry in the dataset looked like this:\n",
    "```python\n",
    "data_entry = {\n",
    "    \"instruction\": \"Answer the query using the provided chunks.\",\n",
    "    \"query\": query,\n",
    "    \"retrieved_chunks\": top_chunks,\n",
    "    \"expected_response\": response\n",
    "}\n",
    "```\n",
    "\n",
    "This structured approach makes sure that the generative model was finetuned effectively, leveraging both the initial queries and the documents retrieved by the RAG model, therefore, enhancing its ability to generate accurate and contextually appropriate responses. (Improving Groundness & Answer Relevancy)\n",
    "\n",
    "## Important:\n",
    "It was crucial to make sure that these samples in the dataset does not surpass the context window of flant5(512), so I retrived just 2 documents for this part. There are some otherways, like using summarized to address this issue which are better but comes with more computation cost."
   ]
  },
  {
   "cell_type": "code",
   "execution_count": 25,
   "id": "9411a870-6c50-4047-865c-af1e3dcd6579",
   "metadata": {},
   "outputs": [
    {
     "name": "stderr",
     "output_type": "stream",
     "text": [
      "100%|█████████████████████████████████████████| 200/200 [04:57<00:00,  1.49s/it]\n"
     ]
    }
   ],
   "source": [
    "import pandas as pd\n",
    "import random\n",
    "from tqdm import tqdm\n",
    "\n",
    "df_train = pd.read_csv(\"finetune_dataset/train_embedding.csv\")\n",
    "formatted_data = []\n",
    "\n",
    "random_integers = [random.randint(0, len(df_train)) for _ in range(200)]\n",
    "\n",
    "\n",
    "for j in tqdm(random_integers):\n",
    "    query = df_train.at[j, \"Question\"]\n",
    "    response, top_chunks = retrieve_and_generate(query, index, metadata, n=2)\n",
    "    # creating the data format for SFT of LLM\n",
    "    data_entry = {\n",
    "        \"instruction\": \"Answer the query using the provided chunks.\",\n",
    "        \"query\": query,\n",
    "        \"retrieved_chunks\": top_chunks,\n",
    "        \"expected_response\": response\n",
    "    }\n",
    "    formatted_data.append(data_entry)\n",
    "\n",
    "\n",
    "formatted_df = pd.DataFrame(formatted_data)\n",
    "\n",
    "formatted_df.to_csv(\"finetune_dataset/SFT_LLM.csv\", index=False)\n"
   ]
  },
  {
   "cell_type": "markdown",
   "id": "909b62f7-9748-487b-af1c-0e4801ed29ba",
   "metadata": {},
   "source": [
    "# Instruction SFT\n",
    "After collecting the necessary data, I used PEFT (parameter efficient finetune) with LoRA to finetune the flan t5 model specifically for this dataset. However, it's crucial to note that due to GPU memory limitations, I was unable to select my desired batch size. This constraint affected the training process, as I had to opt for a smaller batch size than initially planned, which could potentially limits performance gain.\n",
    "\n",
    "I used trainer api to facilitate the training development and process\n"
   ]
  },
  {
   "cell_type": "code",
   "execution_count": 1,
   "id": "907220c6-532c-452c-8f45-33dcddf6450a",
   "metadata": {},
   "outputs": [
    {
     "name": "stderr",
     "output_type": "stream",
     "text": [
      "2024-07-08 04:56:09.919074: I tensorflow/core/platform/cpu_feature_guard.cc:210] This TensorFlow binary is optimized to use available CPU instructions in performance-critical operations.\n",
      "To enable the following instructions: AVX2 AVX512F FMA, in other operations, rebuild TensorFlow with the appropriate compiler flags.\n",
      "2024-07-08 04:56:10.996868: W tensorflow/compiler/tf2tensorrt/utils/py_utils.cc:38] TF-TRT Warning: Could not find TensorRT\n"
     ]
    },
    {
     "name": "stdout",
     "output_type": "stream",
     "text": [
      "Using device: cuda\n",
      "CUDA Version: 12.1\n",
      "PyTorch Version: 2.3.0\n"
     ]
    },
    {
     "data": {
      "application/vnd.jupyter.widget-view+json": {
       "model_id": "41fff3a1b4524f51aad0dba10ca65e33",
       "version_major": 2,
       "version_minor": 0
      },
      "text/plain": [
       "Map:   0%|          | 0/50 [00:00<?, ? examples/s]"
      ]
     },
     "metadata": {},
     "output_type": "display_data"
    },
    {
     "name": "stderr",
     "output_type": "stream",
     "text": [
      "/home/alilotfi/anaconda3/envs/myenv/lib/python3.11/site-packages/transformers/tokenization_utils_base.py:3946: UserWarning: `as_target_tokenizer` is deprecated and will be removed in v5 of Transformers. You can tokenize your labels by using the argument `text_target` of the regular `__call__` method (either in the same call as your input texts if you use the same keyword arguments, or in a separate call.\n",
      "  warnings.warn(\n",
      "/home/alilotfi/anaconda3/envs/myenv/lib/python3.11/site-packages/transformers/training_args.py:1474: FutureWarning: `evaluation_strategy` is deprecated and will be removed in version 4.46 of 🤗 Transformers. Use `eval_strategy` instead\n",
      "  warnings.warn(\n"
     ]
    },
    {
     "data": {
      "text/html": [
       "\n",
       "    <div>\n",
       "      \n",
       "      <progress value='150' max='150' style='width:300px; height:20px; vertical-align: middle;'></progress>\n",
       "      [150/150 01:02, Epoch 3/3]\n",
       "    </div>\n",
       "    <table border=\"1\" class=\"dataframe\">\n",
       "  <thead>\n",
       " <tr style=\"text-align: left;\">\n",
       "      <th>Epoch</th>\n",
       "      <th>Training Loss</th>\n",
       "      <th>Validation Loss</th>\n",
       "    </tr>\n",
       "  </thead>\n",
       "  <tbody>\n",
       "    <tr>\n",
       "      <td>1</td>\n",
       "      <td>No log</td>\n",
       "      <td>4.479598</td>\n",
       "    </tr>\n",
       "    <tr>\n",
       "      <td>2</td>\n",
       "      <td>No log</td>\n",
       "      <td>4.412904</td>\n",
       "    </tr>\n",
       "    <tr>\n",
       "      <td>3</td>\n",
       "      <td>No log</td>\n",
       "      <td>4.391910</td>\n",
       "    </tr>\n",
       "  </tbody>\n",
       "</table><p>"
      ],
      "text/plain": [
       "<IPython.core.display.HTML object>"
      ]
     },
     "metadata": {},
     "output_type": "display_data"
    },
    {
     "name": "stderr",
     "output_type": "stream",
     "text": [
      "/home/alilotfi/anaconda3/envs/myenv/lib/python3.11/site-packages/huggingface_hub/file_download.py:1132: FutureWarning: `resume_download` is deprecated and will be removed in version 1.0.0. Downloads always resume when possible. If you want to force a new download, use `force_download=True`.\n",
      "  warnings.warn(\n"
     ]
    }
   ],
   "source": [
    "\n",
    "import torch\n",
    "from datasets import Dataset\n",
    "from transformers import (\n",
    "    AutoTokenizer,\n",
    "    AutoModelForSeq2SeqLM,\n",
    "    Seq2SeqTrainingArguments,\n",
    "    Seq2SeqTrainer,\n",
    "    DataCollatorForSeq2Seq\n",
    ")\n",
    "from peft import LoraConfig, get_peft_model\n",
    "\n",
    "\n",
    "df = pd.read_csv(\"finetune_dataset/SFT_LLM.csv\")\n",
    "df = df.head(50) \n",
    "# I was getting error of not having enough memory gpu, Ofcouse I offloaded the gpus from the previous steps, but it did not work\n",
    "os.environ['CUDA_LAUNCH_BLOCKING'] = '1'\n",
    "\n",
    "\n",
    "tokenizer = AutoTokenizer.from_pretrained(\"google/flan-t5-base\")\n",
    "model = AutoModelForSeq2SeqLM.from_pretrained(\"google/flan-t5-base\", device_map='auto')\n",
    "\n",
    "lora_config = LoraConfig(\n",
    "    r=2,\n",
    "    lora_alpha=32,\n",
    "    target_modules=[\"q\", \"v\"],\n",
    "    lora_dropout=0.05,\n",
    "    bias=\"none\",\n",
    "    task_type=\"SEQ_2_SEQ_LM\"\n",
    ")\n",
    "\n",
    "model = get_peft_model(model, lora_config)\n",
    "\n",
    "#creating data for causal language model\n",
    "def preprocess_function(examples):\n",
    "    inputs = [f\"Instruction: {examples['instruction']}\\nQuery: {examples['query']}\\nContext: {examples['retrieved_chunks']}\" for _ in range(len(examples['instruction']))]\n",
    "    model_inputs = tokenizer(inputs, max_length=512, truncation=True, padding=\"max_length\")\n",
    "\n",
    "    # making sure we don't surpass the context window of flan t5 and leaving margin for special tokens\n",
    "    max_target_length = max(len(tokenizer.encode(resp)) for resp in examples[\"expected_response\"])\n",
    "    max_target_length = min(max_target_length + 8, model.config.max_length)\n",
    "    \n",
    "    with tokenizer.as_target_tokenizer():\n",
    "        labels = tokenizer(examples[\"expected_response\"], max_length=max_target_length, truncation=True, padding=\"max_length\")\n",
    "\n",
    "    model_inputs[\"labels\"] = labels[\"input_ids\"]\n",
    "    return model_inputs\n",
    "\n",
    "#creating the dataset\n",
    "dataset = Dataset.from_pandas(df)\n",
    "tokenized_dataset = dataset.map(preprocess_function, batched=True)\n",
    "\n",
    "# using trainier api of transformer package\n",
    "training_args = Seq2SeqTrainingArguments(\n",
    "    output_dir=\"./results\",\n",
    "    evaluation_strategy=\"epoch\",\n",
    "    learning_rate=2e-5,\n",
    "    per_device_train_batch_size=1, \n",
    "    per_device_eval_batch_size=1, \n",
    "    num_train_epochs=3,\n",
    "    weight_decay=0.01,\n",
    "    push_to_hub=False,\n",
    ")\n",
    "\n",
    "data_collator = DataCollatorForSeq2Seq(tokenizer=tokenizer, model=model)\n",
    "\n",
    "trainer = Seq2SeqTrainer(\n",
    "    model=model,\n",
    "    args=training_args,\n",
    "    train_dataset=tokenized_dataset,\n",
    "    eval_dataset=tokenized_dataset,\n",
    "    tokenizer=tokenizer,\n",
    "    data_collator=data_collator,\n",
    ")\n",
    "\n",
    "trainer.train()\n",
    "\n",
    "\n",
    "model.save_pretrained(\"./flan-t5-lora-finetuned\")\n",
    "tokenizer.save_pretrained(\"./flan-t5-lora-finetuned\")"
   ]
  },
  {
   "cell_type": "markdown",
   "id": "298ec685-1647-4077-a457-dcfef45893e6",
   "metadata": {},
   "source": [
    "# RAG after SFT of LLM\n",
    "\n",
    "I just here repeated the same query but for finetuned flant5"
   ]
  },
  {
   "cell_type": "code",
   "execution_count": 49,
   "id": "3f35230f-c813-4652-905f-b2eac14f86fb",
   "metadata": {},
   "outputs": [
    {
     "name": "stderr",
     "output_type": "stream",
     "text": [
      "/home/alilotfi/anaconda3/envs/myenv/lib/python3.11/site-packages/huggingface_hub/file_download.py:1132: FutureWarning: `resume_download` is deprecated and will be removed in version 1.0.0. Downloads always resume when possible. If you want to force a new download, use `force_download=True`.\n",
      "  warnings.warn(\n"
     ]
    },
    {
     "name": "stdout",
     "output_type": "stream",
     "text": [
      "Query: What collaboration efforts were implemented by AWS and Idemia to market and launch the Storm ABIS product targeting mid-market law enforcement agencies in the United States?\n",
      "---------- Answer ----------\n",
      "Response: AWS and Idemia collaborated to create a marketing and sales strategy to market the Storm ABIS product targeting mid-market law enforcement agencies across the United States. After a successful launch, the product will be sold to the mid-size law enforcement agency in washington county, oregon.\n",
      "\n",
      " ---------- Top Retrieved Chunks: ----------\n",
      "1: an agency already had a mature cloud environment . to make the solution customizable , the idemia te...\n",
      "2: sales strategy targeting mid-market law enforcement agencies across the united states . beyond provi...\n",
      "3: faster , you can be proactive , you can catch repeat offenders—and your community will be safer , as...\n"
     ]
    }
   ],
   "source": [
    "# Loading the finetuned molde \n",
    "\n",
    "model_directory = \"./flan-t5-lora-finetuned\"\n",
    "tokenizer = AutoTokenizer.from_pretrained(model_directory)\n",
    "model = AutoModelForSeq2SeqLM.from_pretrained(model_directory)\n",
    "model.to(device)\n",
    "model.eval()\n",
    "\n",
    "\n",
    "\n",
    "def generate_response(query, chunks):\n",
    "    context = \"\\n\\n\".join(chunks)\n",
    "    \n",
    "    prompt = f\"\"\"You are a helpful AI assistant. Provide a detailed and comprehensive answer to the following question based on the given context. \n",
    "    Just use information from the context to support your answer. \n",
    "    Do not use your prior knowledge.\n",
    "    If the information is not available in the context, clearly state that.\n",
    "    Aim to give a thorough explanation, using multiple sentences or paragraphs if necessary.\n",
    "\n",
    "    Question: {query}\n",
    "    \n",
    "    Context: {context}\n",
    "\n",
    "    Detailed Answer:\"\"\"\n",
    "\n",
    "    inputs = tokenizer(prompt, return_tensors=\"pt\", max_length=1024, truncation=True)\n",
    "    \n",
    "    inputs = {key: value.to(\"cuda\") for key, value in inputs.items()}\n",
    "    \n",
    "    with torch.no_grad():\n",
    "        outputs = model.generate(\n",
    "            **inputs,\n",
    "            max_length=100,\n",
    "            min_length=60,\n",
    "            num_return_sequences=1,\n",
    "            do_sample=True,\n",
    "            temperature=0.7,\n",
    "            top_k=50,\n",
    "            top_p=0.95,\n",
    "            no_repeat_ngram_size=3,\n",
    "            length_penalty=1.0\n",
    "        )\n",
    "    \n",
    "    response = tokenizer.decode(outputs[0], skip_special_tokens=True)\n",
    "    return response.strip()\n",
    "\n",
    "\n",
    "query = \"What collaboration efforts were implemented by AWS and Idemia to market and launch the Storm ABIS product targeting mid-market law enforcement agencies in the United States?\"\n",
    "response, top_chunks = retrieve_and_generate(query, index, metadata)\n",
    "print(\"Query:\", query)\n",
    "print(\"-\"*10,\"Answer\", \"-\"*10)\n",
    "print(\"Response:\", response)\n",
    "\n",
    "print(\"\\n\",\"-\"*10,\"Top Retrieved Chunks:\", \"-\"*10)\n",
    "for i, chunk in enumerate(top_chunks, 1):\n",
    "    print(f\"{i}: {chunk[:100]}...\")"
   ]
  },
  {
   "cell_type": "markdown",
   "id": "d23a35dc-1e36-44ff-9529-a2925d16f1e7",
   "metadata": {},
   "source": [
    "# Creating Evaluation Dataset\n",
    "I used the query created by gpt 3.5 from chunks, and retrived documents and generated response from the finetuned RAG model"
   ]
  },
  {
   "cell_type": "code",
   "execution_count": null,
   "id": "917624b5-b322-48dd-9e11-3e479bc578ca",
   "metadata": {},
   "outputs": [],
   "source": [
    "import pandas as pd\n",
    "import random\n",
    "from tqdm import tqdm\n",
    "\n",
    "df_train = pd.read_csv(\"finetune_dataset/train_embedding.csv\")\n",
    "formatted_data = []\n",
    "\n",
    "# randomly selecting 50 from the dataset\n",
    "random_integers = [random.randint(0, len(df_train)) for _ in range(50)]\n",
    "\n",
    "\n",
    "for j in tqdm(random_integers):\n",
    "    query = df_train.at[j, \"Question\"]\n",
    "    response, top_chunks = retrieve_and_generate(query, index, metadata, n=2)\n",
    "\n",
    "    data_entry = {\n",
    "        \"query\": query,\n",
    "        \"retrieved_chunks_sft\": top_chunks,\n",
    "        \"generated_response_sft\": response\n",
    "    }\n",
    "    formatted_data.append(data_entry)\n",
    "formatted_df = pd.DataFrame(formatted_data)\n",
    "formatted_df.to_csv(\"finetune_dataset/evaluation.csv\", index=False)"
   ]
  },
  {
   "cell_type": "code",
   "execution_count": 51,
   "id": "cabc9c88-0d20-463d-82e8-fc2dd0994baa",
   "metadata": {},
   "outputs": [
    {
     "name": "stderr",
     "output_type": "stream",
     "text": [
      "100%|███████████████████████████████████████████| 50/50 [01:14<00:00,  1.48s/it]\n"
     ]
    }
   ],
   "source": [
    "import pandas as pd\n",
    "import random\n",
    "from tqdm import tqdm\n",
    "# the same process for Flant5 (not finetuned)\n",
    "df_train = pd.read_csv(\"finetune_dataset/train_embedding.csv\")\n",
    "formatted_data = []\n",
    "for j in tqdm(random_integers):\n",
    "    query = df_train.at[j, \"Question\"]\n",
    "    response, top_chunks = retrieve_and_generate(query, index, metadata, n=2)\n",
    "\n",
    "    # Format the data\n",
    "    data_entry = {\n",
    "        \"query\": query,\n",
    "        \"retrieved_chunks\": top_chunks,\n",
    "        \"generated_response\": response\n",
    "    }\n",
    "    formatted_data.append(data_entry)\n",
    "formatted_df = pd.DataFrame(formatted_data)\n",
    "formatted_df.to_csv(\"finetune_dataset/evaluation_without_finetune.csv\", index=False)\n"
   ]
  },
  {
   "cell_type": "markdown",
   "id": "5bd6e28e-5d45-4fb2-a14c-c4f2001e934b",
   "metadata": {},
   "source": [
    "# Creating Dataset for Evaluation\n",
    "## Generating reference answer\n",
    "For the evaluation of the RAG model in terms of both retrieval and generation, I needed to generate a reference answer for each query and the retrieved documents. To achieve this, I used GPT-3.5 to generate the reference answers. This is the prompt I used for this task:\n",
    "\n",
    "```python\n",
    "messages = [\n",
    "    {\"role\": \"system\", \"content\": \"You are a helpful assistant.\"},\n",
    "    {\"role\": \"user\", \"content\": f\"Generate a reference answer based on the following query and retrieved chunks:\\n\\nQuery: {query}\\n\\nRetrieved Chunks: {retrieved_chunks_sft}\"}\n",
    "]\n",
    "```\n",
    "\n",
    "I used GPT-3.5 as it provides a consistent and high-quality reference answer, BUT, Local models like LLAMA 2 70B can be used in this scenario and other similar scenarios in this project as well "
   ]
  },
  {
   "cell_type": "code",
   "execution_count": 24,
   "id": "adf05d31-8061-40eb-b085-4807e0690058",
   "metadata": {},
   "outputs": [
    {
     "data": {
      "text/html": [
       "<div>\n",
       "<style scoped>\n",
       "    .dataframe tbody tr th:only-of-type {\n",
       "        vertical-align: middle;\n",
       "    }\n",
       "\n",
       "    .dataframe tbody tr th {\n",
       "        vertical-align: top;\n",
       "    }\n",
       "\n",
       "    .dataframe thead th {\n",
       "        text-align: right;\n",
       "    }\n",
       "</style>\n",
       "<table border=\"1\" class=\"dataframe\">\n",
       "  <thead>\n",
       "    <tr style=\"text-align: right;\">\n",
       "      <th></th>\n",
       "      <th>query</th>\n",
       "      <th>retrieved_chunks_sft</th>\n",
       "      <th>generated_response_sft</th>\n",
       "      <th>reference</th>\n",
       "    </tr>\n",
       "  </thead>\n",
       "  <tbody>\n",
       "    <tr>\n",
       "      <th>0</th>\n",
       "      <td>How has Škoda Auto's implementation of predict...</td>\n",
       "      <td>['envisioning the future of magic eye and the ...</td>\n",
       "      <td>Predictive maintenance is a system that can pr...</td>\n",
       "      <td>Škoda Auto's implementation of predictive main...</td>\n",
       "    </tr>\n",
       "    <tr>\n",
       "      <th>1</th>\n",
       "      <td>How can the automatic summarization feature in...</td>\n",
       "      <td>[': law firms often deal with a high volume of...</td>\n",
       "      <td>The automatic summarization feature in amazon ...</td>\n",
       "      <td>Law firms can benefit significantly from the a...</td>\n",
       "    </tr>\n",
       "    <tr>\n",
       "      <th>2</th>\n",
       "      <td>What are the key components and steps involved...</td>\n",
       "      <td>['as an application to connect remotely to a f...</td>\n",
       "      <td>Aws iot fleetwise deploys active campaigns to ...</td>\n",
       "      <td>Reference Answer:\\n\\nIn the data collection pr...</td>\n",
       "    </tr>\n",
       "    <tr>\n",
       "      <th>3</th>\n",
       "      <td>What role did AWS play in Spryker's expansion ...</td>\n",
       "      <td>['spryker customers benefit from the use of aw...</td>\n",
       "      <td>It helped spryker improve its customer experie...</td>\n",
       "      <td>Spryker's expansion strategy into the Chinese ...</td>\n",
       "    </tr>\n",
       "    <tr>\n",
       "      <th>4</th>\n",
       "      <td>How did Valant Medical Solutions use AWS Commu...</td>\n",
       "      <td>['services to build a new telehealth solution ...</td>\n",
       "      <td>AWS Communication Developer Services is cloud-...</td>\n",
       "      <td>Valant Medical Solutions utilized AWS Communic...</td>\n",
       "    </tr>\n",
       "  </tbody>\n",
       "</table>\n",
       "</div>"
      ],
      "text/plain": [
       "                                               query  \\\n",
       "0  How has Škoda Auto's implementation of predict...   \n",
       "1  How can the automatic summarization feature in...   \n",
       "2  What are the key components and steps involved...   \n",
       "3  What role did AWS play in Spryker's expansion ...   \n",
       "4  How did Valant Medical Solutions use AWS Commu...   \n",
       "\n",
       "                                retrieved_chunks_sft  \\\n",
       "0  ['envisioning the future of magic eye and the ...   \n",
       "1  [': law firms often deal with a high volume of...   \n",
       "2  ['as an application to connect remotely to a f...   \n",
       "3  ['spryker customers benefit from the use of aw...   \n",
       "4  ['services to build a new telehealth solution ...   \n",
       "\n",
       "                              generated_response_sft  \\\n",
       "0  Predictive maintenance is a system that can pr...   \n",
       "1  The automatic summarization feature in amazon ...   \n",
       "2  Aws iot fleetwise deploys active campaigns to ...   \n",
       "3  It helped spryker improve its customer experie...   \n",
       "4  AWS Communication Developer Services is cloud-...   \n",
       "\n",
       "                                           reference  \n",
       "0  Škoda Auto's implementation of predictive main...  \n",
       "1  Law firms can benefit significantly from the a...  \n",
       "2  Reference Answer:\\n\\nIn the data collection pr...  \n",
       "3  Spryker's expansion strategy into the Chinese ...  \n",
       "4  Valant Medical Solutions utilized AWS Communic...  "
      ]
     },
     "execution_count": 24,
     "metadata": {},
     "output_type": "execute_result"
    }
   ],
   "source": [
    "df"
   ]
  },
  {
   "cell_type": "markdown",
   "id": "31d8c77d-2469-491c-9f2d-bcd19edfddc6",
   "metadata": {},
   "source": [
    "# Evaluation Metrics\n",
    "- I've used **METEOR** to evaluate the final RAG model for its ability to produce semantically accurate text.\n",
    "- I also used the **RAGE score** to assess the model's retrieval accuracy, focusing on the alignment."
   ]
  },
  {
   "cell_type": "code",
   "execution_count": 40,
   "id": "de776f6e-2e56-45fc-8812-7c00d456a72c",
   "metadata": {},
   "outputs": [
    {
     "name": "stderr",
     "output_type": "stream",
     "text": [
      "[nltk_data] Downloading package wordnet to /home/alilotfi/nltk_data...\n",
      "[nltk_data]   Package wordnet is already up-to-date!\n",
      "[nltk_data] Downloading package omw-1.4 to /home/alilotfi/nltk_data...\n",
      "[nltk_data]   Package omw-1.4 is already up-to-date!\n"
     ]
    },
    {
     "name": "stdout",
     "output_type": "stream",
     "text": [
      "Average METEOR score: 0.16094816612203214\n",
      "count    50.000000\n",
      "mean      0.160948\n",
      "std       0.070330\n",
      "min       0.032212\n",
      "25%       0.118550\n",
      "50%       0.152682\n",
      "75%       0.196401\n",
      "max       0.325801\n",
      "Name: meteor_score, dtype: float64\n"
     ]
    }
   ],
   "source": [
    "import nltk\n",
    "from nltk.translate import meteor_score\n",
    "\n",
    "nltk.download('wordnet')\n",
    "nltk.download('omw-1.4')\n",
    "df = pd.read_csv(\"finetune_dataset/evaluation_w_reference_complete.csv\")\n",
    "def compute_meteor(reference, hypothesis):\n",
    "    return meteor_score.meteor_score([reference.split()], hypothesis.split())\n",
    "\n",
    "df['meteor_score'] = df.apply(lambda row: compute_meteor(row['reference'], row['generated_response_sft']), axis=1)\n",
    "\n",
    "average_meteor = df['meteor_score'].mean()\n",
    "print(f\"Average METEOR score: {average_meteor}\")\n",
    "\n",
    "# Look at the distribution of scores\n",
    "print(df['meteor_score'].describe())\n"
   ]
  },
  {
   "cell_type": "code",
   "execution_count": 44,
   "id": "a54c19ed-72a3-49e7-91b7-6c7d2375fdf1",
   "metadata": {},
   "outputs": [
    {
     "name": "stdout",
     "output_type": "stream",
     "text": [
      "Average METEOR score: 0.15998732758263853\n",
      "count    50.000000\n",
      "mean      0.159987\n",
      "std       0.065169\n",
      "min       0.056457\n",
      "25%       0.114484\n",
      "50%       0.143574\n",
      "75%       0.201424\n",
      "max       0.372694\n",
      "Name: meteor_score, dtype: float64\n"
     ]
    }
   ],
   "source": [
    "\n",
    "df = pd.read_csv(\"finetune_dataset/evaluation_w_reference_complete_without_finetune.csv\")\n",
    "\n",
    "df['meteor_score'] = df.apply(lambda row: compute_meteor(row['reference'], row['generated_response']), axis=1)\n",
    "\n",
    "# Analyze the results\n",
    "average_meteor = df['meteor_score'].mean()\n",
    "print(f\"Average METEOR score: {average_meteor}\")\n",
    "\n",
    "# Look at the distribution of scores\n",
    "print(df['meteor_score'].describe())"
   ]
  },
  {
   "cell_type": "code",
   "execution_count": 46,
   "id": "44c347d4-2734-4d72-a934-5233f64d2148",
   "metadata": {},
   "outputs": [
    {
     "data": {
      "text/html": [
       "<div>\n",
       "<style scoped>\n",
       "    .dataframe tbody tr th:only-of-type {\n",
       "        vertical-align: middle;\n",
       "    }\n",
       "\n",
       "    .dataframe tbody tr th {\n",
       "        vertical-align: top;\n",
       "    }\n",
       "\n",
       "    .dataframe thead th {\n",
       "        text-align: right;\n",
       "    }\n",
       "</style>\n",
       "<table border=\"1\" class=\"dataframe\">\n",
       "  <thead>\n",
       "    <tr style=\"text-align: right;\">\n",
       "      <th></th>\n",
       "      <th>Unnamed: 0</th>\n",
       "      <th>query</th>\n",
       "      <th>retrieved_chunks</th>\n",
       "      <th>generated_response</th>\n",
       "      <th>reference</th>\n",
       "      <th>meteor_score</th>\n",
       "    </tr>\n",
       "  </thead>\n",
       "  <tbody>\n",
       "    <tr>\n",
       "      <th>0</th>\n",
       "      <td>0</td>\n",
       "      <td>How has Škoda Auto's implementation of predict...</td>\n",
       "      <td>['envisioning the future of magic eye and the ...</td>\n",
       "      <td>Predictive maintenance is an efficient and eff...</td>\n",
       "      <td>Škoda Auto's implementation of predictive main...</td>\n",
       "      <td>0.242512</td>\n",
       "    </tr>\n",
       "    <tr>\n",
       "      <th>1</th>\n",
       "      <td>1</td>\n",
       "      <td>How can the automatic summarization feature in...</td>\n",
       "      <td>[': law firms often deal with a high volume of...</td>\n",
       "      <td>The automatic summarization feature can quickl...</td>\n",
       "      <td>The automatic summarization feature in Amazon ...</td>\n",
       "      <td>0.213408</td>\n",
       "    </tr>\n",
       "    <tr>\n",
       "      <th>2</th>\n",
       "      <td>2</td>\n",
       "      <td>What are the key components and steps involved...</td>\n",
       "      <td>['as an application to connect remotely to a f...</td>\n",
       "      <td>Aws iot fleetwise deploys active campaigns to ...</td>\n",
       "      <td>Reference Answer:\\n\\nThe data collection proce...</td>\n",
       "      <td>0.304733</td>\n",
       "    </tr>\n",
       "    <tr>\n",
       "      <th>3</th>\n",
       "      <td>3</td>\n",
       "      <td>What role did AWS play in Spryker's expansion ...</td>\n",
       "      <td>['spryker customers benefit from the use of aw...</td>\n",
       "      <td>AWS helps improve efficiency and improve custo...</td>\n",
       "      <td>Spryker strategically leveraged AWS to facilit...</td>\n",
       "      <td>0.107872</td>\n",
       "    </tr>\n",
       "    <tr>\n",
       "      <th>4</th>\n",
       "      <td>4</td>\n",
       "      <td>How did Valant Medical Solutions use AWS Commu...</td>\n",
       "      <td>['services to build a new telehealth solution ...</td>\n",
       "      <td>AWS Communication Developer Services are cloud...</td>\n",
       "      <td>Valant Medical Solutions utilized AWS Communic...</td>\n",
       "      <td>0.239725</td>\n",
       "    </tr>\n",
       "  </tbody>\n",
       "</table>\n",
       "</div>"
      ],
      "text/plain": [
       "   Unnamed: 0                                              query  \\\n",
       "0           0  How has Škoda Auto's implementation of predict...   \n",
       "1           1  How can the automatic summarization feature in...   \n",
       "2           2  What are the key components and steps involved...   \n",
       "3           3  What role did AWS play in Spryker's expansion ...   \n",
       "4           4  How did Valant Medical Solutions use AWS Commu...   \n",
       "\n",
       "                                    retrieved_chunks  \\\n",
       "0  ['envisioning the future of magic eye and the ...   \n",
       "1  [': law firms often deal with a high volume of...   \n",
       "2  ['as an application to connect remotely to a f...   \n",
       "3  ['spryker customers benefit from the use of aw...   \n",
       "4  ['services to build a new telehealth solution ...   \n",
       "\n",
       "                                  generated_response  \\\n",
       "0  Predictive maintenance is an efficient and eff...   \n",
       "1  The automatic summarization feature can quickl...   \n",
       "2  Aws iot fleetwise deploys active campaigns to ...   \n",
       "3  AWS helps improve efficiency and improve custo...   \n",
       "4  AWS Communication Developer Services are cloud...   \n",
       "\n",
       "                                           reference  meteor_score  \n",
       "0  Škoda Auto's implementation of predictive main...      0.242512  \n",
       "1  The automatic summarization feature in Amazon ...      0.213408  \n",
       "2  Reference Answer:\\n\\nThe data collection proce...      0.304733  \n",
       "3  Spryker strategically leveraged AWS to facilit...      0.107872  \n",
       "4  Valant Medical Solutions utilized AWS Communic...      0.239725  "
      ]
     },
     "execution_count": 46,
     "metadata": {},
     "output_type": "execute_result"
    }
   ],
   "source": [
    "df.head()"
   ]
  },
  {
   "cell_type": "code",
   "execution_count": 32,
   "id": "77b60121-c6a9-4cbc-b97a-48ab723ecf46",
   "metadata": {},
   "outputs": [
    {
     "name": "stderr",
     "output_type": "stream",
     "text": [
      "/home/alilotfi/anaconda3/envs/myenv/lib/python3.11/site-packages/huggingface_hub/file_download.py:1132: FutureWarning: `resume_download` is deprecated and will be removed in version 1.0.0. Downloads always resume when possible. If you want to force a new download, use `force_download=True`.\n",
      "  warnings.warn(\n"
     ]
    },
    {
     "name": "stdout",
     "output_type": "stream",
     "text": [
      "0.7415765804052353\n",
      "0.6912966409325599\n",
      "0.7164366072416306\n"
     ]
    }
   ],
   "source": [
    "df = pd.read_csv('finetune_dataset/evaluation_w_reference_complete.csv') \n",
    "model = SentenceTransformer('all-MiniLM-L6-v2')\n",
    "\n",
    "def compute_similarity(text1, text2):\n",
    "    embedding1 = model.encode([text1])[0]\n",
    "    embedding2 = model.encode([text2])[0]\n",
    "    \n",
    "    return cosine_similarity([embedding1], [embedding2])[0][0]\n",
    "\n",
    "def evaluate_rage(row):\n",
    "    query = row['query']\n",
    "    retrieved_chunks = row['retrieved_chunks_sft']\n",
    "    generated_response = row['generated_response_sft']\n",
    "    reference = row['reference']\n",
    "    \n",
    "    retrieval_similarity = compute_similarity(query, retrieved_chunks)\n",
    "    generation_similarity = compute_similarity(generated_response, reference)\n",
    "    \n",
    "    return pd.Series({\n",
    "        'retrieval_similarity': retrieval_similarity,\n",
    "        'generation_similarity': generation_similarity,\n",
    "        'rage_score': (retrieval_similarity + generation_similarity) / 2\n",
    "    })\n",
    "\n",
    "rage_results_finetuned = df.apply(evaluate_rage, axis=1)\n",
    "\n",
    "\n",
    "print(rage_results_finetuned['retrieval_similarity'].mean())\n",
    "print(rage_results_finetuned['generation_similarity'].mean())\n",
    "print(rage_results_finetuned['rage_score'].mean())"
   ]
  },
  {
   "cell_type": "code",
   "execution_count": 28,
   "id": "a5065113-96a1-4d7f-8adc-b7d21441d96d",
   "metadata": {},
   "outputs": [
    {
     "name": "stderr",
     "output_type": "stream",
     "text": [
      "/home/alilotfi/anaconda3/envs/myenv/lib/python3.11/site-packages/huggingface_hub/file_download.py:1132: FutureWarning: `resume_download` is deprecated and will be removed in version 1.0.0. Downloads always resume when possible. If you want to force a new download, use `force_download=True`.\n",
      "  warnings.warn(\n"
     ]
    },
    {
     "name": "stdout",
     "output_type": "stream",
     "text": [
      "0.7415765804052353\n",
      "0.7285067003965378\n",
      "0.73504163980484\n"
     ]
    }
   ],
   "source": [
    "df = pd.read_csv('finetune_dataset/evaluation_w_reference_complete_without_finetune.csv')  # Replace with your actual data file\n",
    "rage_results = df.apply(evaluate_rage, axis=1)\n",
    "\n",
    "\n",
    "print(rage_results['retrieval_similarity'].mean())\n",
    "print(rage_results['generation_similarity'].mean())\n",
    "print(rage_results['rage_score'].mean())"
   ]
  },
  {
   "cell_type": "markdown",
   "id": "f09d0ca9-ee74-4f71-ab50-66e4a1ac2f35",
   "metadata": {},
   "source": [
    "# Model performance\n",
    "*as mentioned before*\n",
    "**METOR**: a metric that measures the accuracy and quality of retrieval results.\n",
    "**RAGE**:  a custom metric that evaluates the performance of RAG models by combining retrieval similarity and generation similarity.\n",
    "\n",
    "Ultimately, human evaluation or evaluation with LLMs would be more meaningful to assess the overall effectiveness of the models.\n",
    "\n",
    "* RAGE: Retrieval-Augmented Generation with Efficiency Score"
   ]
  },
  {
   "cell_type": "code",
   "execution_count": 72,
   "id": "6f702420-431d-443b-928f-81fb1aa916d7",
   "metadata": {},
   "outputs": [
    {
     "data": {
      "image/png": "[encoded data removed]",
      "text/plain": [
       "<Figure size 1400x700 with 1 Axes>"
      ]
     },
     "metadata": {},
     "output_type": "display_data"
    }
   ],
   "source": [
    "import matplotlib.pyplot as plt\n",
    "\n",
    "non_rs = rage_results['retrieval_similarity'].mean()\n",
    "non_gs = rage_results['generation_similarity'].mean()\n",
    "non_rs = rage_results['rage_score'].mean()\n",
    "\n",
    "finetuned_rs = rage_results_finetuned['retrieval_similarity'].mean()\n",
    "finetuned_gs = rage_results_finetuned['generation_similarity'].mean()\n",
    "finetuned_rs = rage_results_finetuned['rage_score'].mean()\n",
    "\n",
    "models = ['FlanT5', 'SFT-FlanT5']\n",
    "configurations = ['retrieval_similarity', 'generation_similarity', 'rage_score']\n",
    "\n",
    "non_finetuned = [non_rs , non_gs, non_rs]\n",
    "finetuned = [finetuned_rs, finetuned_gs, finetuned_rs]\n",
    "\n",
    "\n",
    "# Set up the bar width and positions\n",
    "bar_width = 0.25\n",
    "r1 = np.arange(len(models))\n",
    "r2 = [x + bar_width for x in r1]\n",
    "r3 = [x + bar_width for x in r2]\n",
    "\n",
    "\n",
    "plt.figure(figsize=(14, 7))\n",
    "\n",
    "# Function to add value labels\n",
    "def add_value_labels(bars):\n",
    "    for bar in bars:\n",
    "        height = bar.get_height()\n",
    "        plt.text(bar.get_x() + bar.get_width()/2., height,\n",
    "                 f'{height}',\n",
    "                 ha='center', va='bottom')\n",
    "\n",
    "# Create and label the bars for each configuration\n",
    "bars1 = plt.bar(r1, [non_finetuned[0], finetuned[0]], color='blue', width=bar_width, label=configurations[0])\n",
    "bars2 = plt.bar(r2, [non_finetuned[1], finetuned[1]], color='orange', width=bar_width, label=configurations[1])\n",
    "bars3 = plt.bar(r3, [non_finetuned[2], finetuned[2]], color='green', width=bar_width, label=configurations[2])\n",
    "\n",
    "# Add the value labels\n",
    "add_value_labels(bars1)\n",
    "add_value_labels(bars2)\n",
    "add_value_labels(bars3)\n",
    "\n",
    "plt.xlabel('')\n",
    "plt.ylabel('RAGE Evaluation')\n",
    "plt.title('FlanT5 Vs. SFT FlanT5')\n",
    "plt.xticks([r + bar_width for r in range(len(models))], models)\n",
    "plt.legend(loc='lower center')\n",
    "plt.tight_layout()\n",
    "plt.show()"
   ]
  },
  {
   "cell_type": "markdown",
   "id": "51789249-9fb2-4698-a854-2d2278612b85",
   "metadata": {},
   "source": [
    "# Speed Evaluation\n",
    "\n",
    "### Queries Per Second (QPS)\n",
    "I choosed this metric as  it gives a clear measure of the system's throughput, indicating how many queries the model can handle for a specific time interval.\n",
    "\n",
    "### Latency\n",
    "The other popular metric is latency to measure the time taken to process a single query to understand the speed of the RAG system better."
   ]
  },
  {
   "cell_type": "code",
   "execution_count": 57,
   "id": "39a57080-445a-407a-8e1b-32033c847520",
   "metadata": {},
   "outputs": [
    {
     "name": "stderr",
     "output_type": "stream",
     "text": [
      "100%|███████████████████████████████████████████| 50/50 [01:34<00:00,  1.88s/it]\n"
     ]
    }
   ],
   "source": [
    "import time\n",
    "df = pd.read_csv(\"finetune_dataset/test_embedding.csv\")\n",
    "df = df.head(50)\n",
    "queries = df[\"Question\"].tolist()\n",
    "\n",
    "\n",
    "def measure_performance(queries, index, metadata, n=3):\n",
    "    total_time = 0\n",
    "    for query in tqdm(queries):\n",
    "        start_time = time.time()\n",
    "        retrieve_and_generate(query, index, metadata, n=n)\n",
    "        end_time = time.time()\n",
    "        total_time += end_time - start_time\n",
    "    \n",
    "    average_latency = total_time / len(queries)\n",
    "    qps = len(queries) / total_time\n",
    "    \n",
    "    return average_latency, qps\n",
    "\n",
    "n_list = [3]\n",
    "qps_list = []\n",
    "avg_list = []\n",
    "for n in n_list:\n",
    "    average_latency, qps = measure_performance(queries, index, metadata, n)\n",
    "    qps_list.append(qps)\n",
    "    avg_list.append(average_latency)\n",
    "    "
   ]
  },
  {
   "cell_type": "code",
   "execution_count": 60,
   "id": "2928ced7-759f-4a66-9464-568575b55ec0",
   "metadata": {},
   "outputs": [
    {
     "data": {
      "image/png": "[encoded data removed]",
      "text/plain": [
       "<Figure size 1000x600 with 1 Axes>"
      ]
     },
     "metadata": {},
     "output_type": "display_data"
    }
   ],
   "source": [
    "bar_width = 0.35\n",
    "r1 = np.arange(len(n_list))\n",
    "r2 = [x + bar_width for x in r1]\n",
    "fig, ax = plt.subplots(figsize=(10, 6))\n",
    "qps_bars = ax.bar(r1, qps_list, color='blue', width=bar_width, label='Queries per second')\n",
    "avg_bars = ax.bar(r2, avg_list, color='green', width=bar_width, label='Average Latency (second)')\n",
    "\n",
    "def add_value_labels(bars):\n",
    "    for bar in bars:\n",
    "        height = bar.get_height()\n",
    "        ax.text(bar.get_x() + bar.get_width()/2., height,\n",
    "                f'{height:.2f}',\n",
    "                ha='center', va='bottom')\n",
    "\n",
    "\n",
    "add_value_labels(qps_bars)\n",
    "add_value_labels(avg_bars)\n",
    "\n",
    "# Add labels and title\n",
    "ax.set_xlabel('Number of Retrieved Tokens')\n",
    "ax.set_ylabel('Value')\n",
    "ax.set_title('QPS and Average Values for Different Number of Retrieved Tokens')\n",
    "ax.set_xticks([r + bar_width/2 for r in range(len(n_list))])\n",
    "ax.set_xticklabels(n_list)\n",
    "\n",
    "\n",
    "ax.legend()\n",
    "\n",
    "# Show the plot\n",
    "plt.tight_layout()\n",
    "plt.show()"
   ]
  },
  {
   "cell_type": "markdown",
   "id": "11c2cb47-a34d-409d-8b3a-da9e39824002",
   "metadata": {},
   "source": [
    "QUESTION: **Suppose you have to deploy the system in production that has 4x A100 GPUs to cater to 1000 users per day. Explain how you will optimize the model to achieve high speed (average response time 1-2 seconds per user), leverage multi-core processors and parallel computing to distribute tasks and accelerate inference**\n",
    "\n",
    "# Potential Solutions for faster inference:\n",
    "\n",
    "\n",
    "## Pipeline Parallelism\n",
    "**Model Distribution**: to speed up, I suggest using DeepSpeed library which allows splitting the retrieval and generation models across all 4 cards. This distributes the workload, enabling parallel processing of multiple user queries at the same time.\n",
    "\n",
    "**Model Parallelism**:Use frameworks like PyTorch DistributedDataParallel which is enabling parallel computation of different model layers.\n",
    "\n",
    "## Tensor Parallelism\n",
    "**Data Parallelism**:Implement data parallelism to process multiple batches of input simultaneously across different GPUs or nodes.\n",
    "\n",
    "## Queueing\n",
    "Implement a queueing system to store incoming user queries, and then perform batch inferencing. This would allow parallelism and also increase gpu memory. In other words, when batch created, parallel inference on all 4 GPUs would be performed. Each GPU processes its assigned queries within the batch. TRITON is a strong queueing package for nvidia gpus.\n",
    "\n",
    "Using DP (singke processor) or Distributed DP (with unique processor for each gpu card) to copy model on different gpu (as the whole RAG model developed here is relatively small too) would also significantly speed up inference speed. \n",
    "\n",
    "Also other techniques like quantization, knowledge distillation can be used to serve multiple models on a single gpu car"
   ]
  },
  {
   "cell_type": "markdown",
   "id": "73053802-a4fc-431c-957e-cc4d7a2c4691",
   "metadata": {},
   "source": [
    "# Potential Improvements\n",
    "- Use a larger model like Llama 2 70b\n",
    "- Quanizted a larger model using Optimal Brain Surgery algorithm \n",
    "- Hybrid retrival as mentioned before\n",
    "- Re-ranking the retrieved documents with a cross encoder or other approaches\n",
    "- Generate high qulaity dataset for SFT of LLM with the help of gpt 3.5 or other publicly availables model"
   ]
  }
 ],
 "metadata": {
  "kernelspec": {
   "display_name": "Python 3 (ipykernel)",
   "language": "python",
   "name": "python3"
  },
  "language_info": {
   "codemirror_mode": {
    "name": "ipython",
    "version": 3
   },
   "file_extension": ".py",
   "mimetype": "text/x-python",
   "name": "python",
   "nbconvert_exporter": "python",
   "pygments_lexer": "ipython3",
   "version": "3.11.9"
  }
 },
 "nbformat": 4,
 "nbformat_minor": 5
}
